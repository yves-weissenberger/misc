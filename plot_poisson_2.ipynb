{
 "cells": [
  {
   "cell_type": "code",
   "execution_count": 1,
   "metadata": {
    "collapsed": false
   },
   "outputs": [],
   "source": [
    "%matplotlib inline"
   ]
  },
  {
   "cell_type": "markdown",
   "metadata": {},
   "source": [
    "\n",
    "# Canonical Poisson Distribution\n",
    "\n",
    "\n",
    "This is an example demonstrating how pyglmnet with\n",
    "poisson exponential distribution works.\n",
    "\n"
   ]
  },
  {
   "cell_type": "markdown",
   "metadata": {},
   "source": [
    "First, we can import useful libraries that we will use it later on\n"
   ]
  },
  {
   "cell_type": "code",
   "execution_count": 2,
   "metadata": {
    "collapsed": false
   },
   "outputs": [],
   "source": [
    "import numpy as np\n",
    "import scipy.sparse as sps\n",
    "from scipy.special import expit\n",
    "from copy import deepcopy\n",
    "import matplotlib.pyplot as plt\n",
    "from sklearn.preprocessing import StandardScaler"
   ]
  },
  {
   "cell_type": "markdown",
   "metadata": {},
   "source": [
    "Import ``GLM`` class from ``pyglmnet``\n"
   ]
  },
  {
   "cell_type": "code",
   "execution_count": 3,
   "metadata": {
    "collapsed": false
   },
   "outputs": [],
   "source": [
    "# import GLM model\n",
    "from pyglmnet import GLM\n",
    "\n",
    "# create regularization parameters for model\n",
    "reg_lambda = np.logspace(np.log(0.5), np.log(0.01), 10, base=np.exp(1))\n",
    "glm_poissonexp = GLM(distr='poissonexp', verbose=False, alpha=0.05,\n",
    "            max_iter=1000, learning_rate=1e-5,\n",
    "            reg_lambda=reg_lambda, eta=4.0)"
   ]
  },
  {
   "cell_type": "markdown",
   "metadata": {},
   "source": [
    "\n",
    "\n",
    "$$J = \\sum_i \\lambda_i - y_i \\log \\lambda_i$$\n",
    "\n",
    "where\n",
    "\n",
    "$$\\lambda_i =\n",
    "    \\begin{cases}\n",
    "        \\exp(z_i), & \\text{if}\\ z_i \\leq \\eta \\\\\n",
    "        \\\\\n",
    "         \\exp(\\eta)z_i + (1-\\eta)\\exp(\\eta), & \\text{if}\\ z_i \\gt \\eta\n",
    "    \\end{cases}$$\n",
    "\n",
    "and\n",
    "\n",
    "$$z_i = \\beta_0 + \\sum_j \\beta_j x_{ij}$$\n",
    "\n",
    "Taking gradients,\n",
    "\n",
    "$$\\frac{\\partial J}{\\partial \\beta_j} = \\sum_i \\frac{\\partial J}{\\partial \\lambda_i} \\frac{\\partial \\lambda_i}{\\partial z_i} \\frac{\\partial z_i}{\\partial \\beta_j}$$\n",
    "\n",
    "\n",
    "$$\\frac{\\partial J}{\\partial \\beta_0} =\n",
    "    \\begin{cases}\n",
    "        \\sum_i \\Big(\\lambda_i - y_i\\Big), & \\text{if}\\ z_i \\leq \\eta \\\\\n",
    "        \\\\\n",
    "        \\exp(\\eta) \\sum_i \\Big(1 - \\frac{\\lambda_i}{y_i}\\Big), & \\text{if}\\ z_i \\gt \\eta\n",
    "    \\end{cases}$$\n",
    "\n",
    "$$\\frac{\\partial J}{\\partial \\beta_j} =\n",
    "    \\begin{cases}\n",
    "        \\sum_i \\Big(\\lambda_i - y_i\\Big)x_{ij}, & \\text{if}\\ z_i \\leq \\eta \\\\\n",
    "        \\\\\n",
    "        \\exp(\\eta) \\sum_i \\Big(1 - \\frac{\\lambda_i}{y_i}\\Big)x_{ij}, & \\text{if}\\ z_i \\gt \\eta\n",
    "    \\end{cases}$$\n",
    "\n",
    "\n",
    "\n"
   ]
  },
  {
   "cell_type": "code",
   "execution_count": 4,
   "metadata": {
    "collapsed": false
   },
   "outputs": [
    {
     "data": {
      "image/png": "[encoded data removed]",
      "text/plain": [
       "<matplotlib.figure.Figure at 0x7fd447bc3b10>"
      ]
     },
     "metadata": {},
     "output_type": "display_data"
    }
   ],
   "source": [
    "z = np.linspace(0., 10., 100)\n",
    "\n",
    "eta = 4.0\n",
    "qu = deepcopy(z)\n",
    "slope = np.exp(eta)\n",
    "intercept = (1 - eta) * slope\n",
    "qu[z > eta] = z[z > eta] * slope + intercept\n",
    "qu[z <= eta] = np.exp(z[z <= eta])\n",
    "\n",
    "plt.plot(z, qu, label='a')\n",
    "plt.plot(z, np.exp(z), label='b')\n",
    "plt.ylim([0, 1000])\n",
    "plt.xlabel('x')\n",
    "plt.ylabel('y')\n",
    "plt.legend(bbox_to_anchor=(0., 1.02, 1., .102), loc=1,\n",
    "           ncol=2, borderaxespad=0.)\n",
    "plt.show()"
   ]
  },
  {
   "cell_type": "code",
   "execution_count": 5,
   "metadata": {
    "collapsed": false
   },
   "outputs": [],
   "source": [
    "# Dataset size\n",
    "n_samples, n_features = 10000, 100\n",
    "\n",
    "# baseline term\n",
    "beta0 = np.random.normal(0.0, 1.0, 1)\n",
    "# sparse model terms\n",
    "beta = sps.rand(n_features, 1, 0.1)\n",
    "beta = np.array(beta.todense())\n",
    "\n",
    "# training data\n",
    "Xr = np.random.normal(0.0, 1.0, [n_samples, n_features])\n",
    "yr = glm_poissonexp.simulate(beta0, beta, Xr)\n",
    "\n",
    "# testing data\n",
    "Xt = np.random.normal(0.0, 1.0, [n_samples, n_features])\n",
    "yt = glm_poissonexp.simulate(beta0, beta, Xt)"
   ]
  },
  {
   "cell_type": "markdown",
   "metadata": {},
   "source": [
    "Fit model to training data\n"
   ]
  },
  {
   "cell_type": "code",
   "execution_count": 6,
   "metadata": {
    "collapsed": false
   },
   "outputs": [
    {
     "name": "stderr",
     "output_type": "stream",
     "text": [
      "/usr/local/lib/python2.7/dist-packages/pyglmnet-0.1.dev0-py2.7.egg/pyglmnet/pyglmnet.py:334: VisibleDeprecationWarning: using a non-integer number instead of an integer will result in an error in the future\n",
      "/usr/local/lib/python2.7/dist-packages/pyglmnet-0.1.dev0-py2.7.egg/pyglmnet/pyglmnet.py:352: VisibleDeprecationWarning: using a non-integer number instead of an integer will result in an error in the future\n",
      "/usr/local/lib/python2.7/dist-packages/pyglmnet-0.1.dev0-py2.7.egg/pyglmnet/pyglmnet.py:356: VisibleDeprecationWarning: using a non-integer number instead of an integer will result in an error in the future\n"
     ]
    }
   ],
   "source": [
    "scaler = StandardScaler().fit(Xr)\n",
    "glm_poissonexp.fit(scaler.transform(Xr),yr);"
   ]
  },
  {
   "cell_type": "markdown",
   "metadata": {},
   "source": [
    "Gradient of loss function\n"
   ]
  },
  {
   "cell_type": "code",
   "execution_count": 7,
   "metadata": {
    "collapsed": false
   },
   "outputs": [
    {
     "name": "stdout",
     "output_type": "stream",
     "text": [
      "[[-0.77386543]\n",
      " [ 0.5081026 ]\n",
      " [ 0.70967578]\n",
      " [ 0.7034753 ]\n",
      " [-0.40775273]]\n"
     ]
    }
   ],
   "source": [
    "grad_beta0, grad_beta = glm_poissonexp._grad_L2loss(glm_poissonexp.fit_[-1]['beta0'], glm_poissonexp.fit_[-1]['beta'], 0.01, Xr, yr)\n",
    "print(grad_beta[:5])"
   ]
  },
  {
   "cell_type": "markdown",
   "metadata": {},
   "source": [
    "Use one model to predict\n"
   ]
  },
  {
   "cell_type": "code",
   "execution_count": 8,
   "metadata": {
    "collapsed": false
   },
   "outputs": [],
   "source": [
    "m = glm_poissonexp[-1]\n",
    "this_model_param = m.fit_\n",
    "yrhat = m.predict(scaler.transform(Xr))\n",
    "ythat = m.predict(scaler.transform(Xt))"
   ]
  },
  {
   "cell_type": "markdown",
   "metadata": {},
   "source": [
    "Visualize predicted output\n"
   ]
  },
  {
   "cell_type": "code",
   "execution_count": 9,
   "metadata": {
    "collapsed": false
   },
   "outputs": [
    {
     "data": {
      "image/png": "[encoded data removed]",
      "text/plain": [
       "<matplotlib.figure.Figure at 0x7fd447bb8310>"
      ]
     },
     "metadata": {},
     "output_type": "display_data"
    }
   ],
   "source": [
    "plt.plot(yt[:100], label='tr')\n",
    "plt.plot(ythat[:100], 'r', label='pr')\n",
    "plt.xlabel('samples')\n",
    "plt.ylabel('true and predicted outputs')\n",
    "plt.legend(bbox_to_anchor=(0., 1.02, 1., .102), loc=1,\n",
    "           ncol=2, borderaxespad=0.)\n",
    "plt.show()"
   ]
  },
  {
   "cell_type": "markdown",
   "metadata": {},
   "source": [
    "compute pseudo R-square\n"
   ]
  },
  {
   "cell_type": "code",
   "execution_count": 10,
   "metadata": {
    "collapsed": false
   },
   "outputs": [
    {
     "name": "stdout",
     "output_type": "stream",
     "text": [
      "-30.6596721987\n"
     ]
    }
   ],
   "source": [
    "print(m.score(yt, ythat, np.mean(yr), method='pseudo_R2'))"
   ]
  },
  {
   "cell_type": "code",
   "execution_count": null,
   "metadata": {
    "collapsed": true
   },
   "outputs": [],
   "source": []
  }
 ],
 "metadata": {
  "kernelspec": {
   "display_name": "Python 2",
   "language": "python",
   "name": "python2"
  },
  "language_info": {
   "codemirror_mode": {
    "name": "ipython",
    "version": 2
   },
   "file_extension": ".py",
   "mimetype": "text/x-python",
   "name": "python",
   "nbconvert_exporter": "python",
   "pygments_lexer": "ipython2",
   "version": "2.7.11+"
  }
 },
 "nbformat": 4,
 "nbformat_minor": 0
}
